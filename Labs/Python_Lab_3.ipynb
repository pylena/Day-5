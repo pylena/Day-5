{
 "cells": [
  {
   "cell_type": "markdown",
   "metadata": {},
   "source": [
    "# Python_Lab_3\n"
   ]
  },
  {
   "cell_type": "markdown",
   "metadata": {},
   "source": [
    "### Task 1\n",
    "- Write a function named **'create_student_records'** that takes a list of tuples. Each tuple contains a student's name and their scores in three subjects. The function should return a list of dictionaries, where each dictionary represents a student with keys: name, subject1, subject2, subject3. Use list comprehension to create the list of dictionaries."
   ]
  },
  {
   "cell_type": "code",
   "execution_count": 17,
   "metadata": {},
   "outputs": [
    {
     "name": "stdout",
     "output_type": "stream",
     "text": [
      "[{'name': 'lena', 'subject1': 80, 'subject2': 90, 'subject3': 100}, {'name': 'nora', 'subject1': 70, 'subject2': 75, 'subject3': 95}, {'name': 'ahamd', 'subject1': 65, 'subject2': 85, 'subject3': 60}, {'name': 'lana', 'subject1': 95, 'subject2': 100, 'subject3': 92}, {'name': 'amal', 'subject1': 100, 'subject2': 95, 'subject3': 99}]\n"
     ]
    }
   ],
   "source": [
    "# write your code here ^_^\n",
    "\n",
    "#list of tuples\n",
    "student = [\n",
    "    ('lena', 80, 90, 100),\n",
    "    ('nora', 70, 75 , 95),\n",
    "    ('ahamd', 65,85 ,60),\n",
    "    ('lana', 95,100,92),\n",
    "    ('amal',100,95,99)\n",
    "]\n",
    "#from list of tuples to list of dict\n",
    "def create_student_records(studentList:list):\n",
    "  keys = ['name', 'subject1', 'subject2', 'subject3']\n",
    "  newList = [{ k: v for k , v in zip(keys,records)} for records in studentList]\n",
    "  return newList\n",
    "\n",
    "\n",
    "studentRecord =create_student_records(student)\n",
    "print(studentRecord)\n"
   ]
  },
  {
   "cell_type": "markdown",
   "metadata": {},
   "source": [
    "### Task 2\n",
    "- Write a function named **'filter_and_sort_students'** that takes the list of dictionaries from Question 1 and returns a sorted list of student names who have an average score of 80 or more across all subjects. Sort the names in alphabetical order."
   ]
  },
  {
   "cell_type": "code",
   "execution_count": 20,
   "metadata": {},
   "outputs": [
    {
     "data": {
      "text/plain": [
       "['amal', 'lana', 'lena', 'nora']"
      ]
     },
     "execution_count": 20,
     "metadata": {},
     "output_type": "execute_result"
    }
   ],
   "source": [
    "# write your code here ^_^\n",
    "# total scores / len subjects\n",
    "def filter_and_sort_student(studenttList: list):\n",
    "    topStudent = []\n",
    "    for i in studenttList:\n",
    "        scores = [\n",
    "            v for k,v in i.items() if k.startswith('subject')\n",
    "        ]\n",
    "        \n",
    "        average = sum(scores) / len(scores)\n",
    "        if average >= 80:\n",
    "            topStudent.append(i['name'])\n",
    "            \n",
    "    return sorted(topStudent)\n",
    "\n",
    "\n",
    "\n",
    "filter_and_sort_student(studentRecord)\n"
   ]
  },
  {
   "cell_type": "markdown",
   "metadata": {},
   "source": [
    "### Task 3\n",
    "- Write a function named **'get_product_info'** that prompts the user to enter information about a product. The function should ask for the product name, product price, and product quantity. If the user enters an invalid input (e.g., a non-numeric value for the price or quantity), the function should handle the error and prompt the user to enter the value again. Return a dictionary containing the product information."
   ]
  },
  {
   "cell_type": "code",
   "execution_count": 16,
   "metadata": {},
   "outputs": [
    {
     "data": {
      "text/plain": [
       "{'Name': 'book', 'price': '50', 'quantity': '50'}"
      ]
     },
     "execution_count": 16,
     "metadata": {},
     "output_type": "execute_result"
    }
   ],
   "source": [
    "# write your code here ^_^\n",
    "\n",
    "\n",
    "def get_product_info():\n",
    "  product_info = {} \n",
    "  product_info['Name'] = input('Enter the product name:')\n",
    "  while True:\n",
    "      try:\n",
    "          price = input('Enter the product Price:')\n",
    "          if price.isdigit():\n",
    "               product_info['price']  = price\n",
    "               break\n",
    "      except ValueError as e:\n",
    "          print('please enter a vaild price')    \n",
    "          \n",
    "  while True:\n",
    "      try:\n",
    "          quantity = input('Enter the product quantity:')\n",
    "          if quantity.isdigit():\n",
    "               product_info['quantity']  = price\n",
    "               break\n",
    "      except ValueError as e:\n",
    "          print('please enter a vaild quantity')                      \n",
    "    \n",
    "  return product_info\n",
    "\n",
    "              \n",
    "     \n",
    "     \n",
    "get_product_info()\n",
    "       \n",
    " \n",
    " \n"
   ]
  },
  {
   "cell_type": "markdown",
   "metadata": {},
   "source": [
    "### Task 4\n",
    "- Write a function named **'get_even_numbers'** that takes a list of integers and returns a list of even numbers using list comprehension."
   ]
  },
  {
   "cell_type": "code",
   "execution_count": 20,
   "metadata": {},
   "outputs": [
    {
     "data": {
      "text/plain": [
       "[2, 4]"
      ]
     },
     "execution_count": 20,
     "metadata": {},
     "output_type": "execute_result"
    }
   ],
   "source": [
    "# write your code here ^_^\n",
    "def get_even_numbers(nums:list):\n",
    "  return [x for x in nums if x % 2 == 0]\n",
    "\n",
    "\n",
    "get_even_numbers((1,3,2,4))"
   ]
  },
  {
   "cell_type": "markdown",
   "metadata": {},
   "source": [
    "### Task 5\n",
    "- Write a function named **'pair_elements'** that takes two lists of equal length as parameters and returns a list of tuples, where each tuple contains corresponding elements from the two lists. Use the zip function to achieve this."
   ]
  },
  {
   "cell_type": "markdown",
   "metadata": {},
   "source": []
  },
  {
   "cell_type": "code",
   "execution_count": 7,
   "metadata": {},
   "outputs": [
    {
     "name": "stdout",
     "output_type": "stream",
     "text": [
      "(('a', 'g'), ('b', 't'), ('c', 'k'))\n"
     ]
    }
   ],
   "source": [
    "# write your code here ^_^\n",
    "\n",
    "def pair_elements(ls1, ls2):\n",
    "    if len(ls1) == len(ls2):\n",
    "     x = zip(ls1,ls2)\n",
    "     print(tuple(x))\n",
    "    else:\n",
    "      print('liste elemnts are not equal! ')\n",
    "\n",
    "\n",
    "pair_elements(['a','b','c'], ['g','t', 'k'])"
   ]
  },
  {
   "cell_type": "markdown",
   "metadata": {},
   "source": [
    "### Task 6\n",
    "- Write a function named **'square_dict_lambda'** that takes a list of integers and returns a dictionary where the keys are the integers and the values are their squares. Use a lambda function within a dictionary comprehension to achieve this."
   ]
  },
  {
   "cell_type": "code",
   "execution_count": 23,
   "metadata": {},
   "outputs": [
    {
     "data": {
      "text/plain": [
       "{1: 1, 2: 4, 3: 9, 4: 16, 5: 25, 6: 36}"
      ]
     },
     "execution_count": 23,
     "metadata": {},
     "output_type": "execute_result"
    }
   ],
   "source": [
    "# write your code here ^_^\n",
    "numbers = [1,2,3,4,5,6]\n",
    "def square_dict_lambda(nums:list):\n",
    "    return {x: x*x for x in numbers}\n",
    " \n",
    "square_dict_lambda(numbers)"
   ]
  },
  {
   "cell_type": "markdown",
   "metadata": {},
   "source": []
  }
 ],
 "metadata": {
  "kernelspec": {
   "display_name": "base",
   "language": "python",
   "name": "python3"
  },
  "language_info": {
   "codemirror_mode": {
    "name": "ipython",
    "version": 3
   },
   "file_extension": ".py",
   "mimetype": "text/x-python",
   "name": "python",
   "nbconvert_exporter": "python",
   "pygments_lexer": "ipython3",
   "version": "3.9.13"
  }
 },
 "nbformat": 4,
 "nbformat_minor": 2
}
